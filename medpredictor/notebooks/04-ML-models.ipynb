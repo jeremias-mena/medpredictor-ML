{
 "cells": [
  {
   "cell_type": "code",
   "execution_count": 3,
   "metadata": {},
   "outputs": [],
   "source": [
    "from medpredictor import Graph, Encoder, Config\n",
    "import numpy as np\n",
    "import pandas as pd\n",
    "from sklearn.neighbors import KNeighborsClassifier\n",
    "from sklearn.ensemble import RandomForestClassifier\n",
    "from sklearn.model_selection import train_test_split, RandomizedSearchCV, cross_val_score\n",
    "from sklearn import metrics\n",
    "from IPython.display import Markdown"
   ]
  },
  {
   "cell_type": "markdown",
   "metadata": {},
   "source": [
    "### **Setting up the dataframe**"
   ]
  },
  {
   "cell_type": "code",
   "execution_count": 4,
   "metadata": {},
   "outputs": [
    {
     "name": "stdout",
     "output_type": "stream",
     "text": [
      "<class 'pandas.core.frame.DataFrame'>\n",
      "RangeIndex: 253680 entries, 0 to 253679\n",
      "Data columns (total 22 columns):\n",
      " #   Column                Non-Null Count   Dtype  \n",
      "---  ------                --------------   -----  \n",
      " 0   Diabetes_012          253680 non-null  object \n",
      " 1   HighBP                253680 non-null  object \n",
      " 2   HighChol              253680 non-null  object \n",
      " 3   CholCheck             253680 non-null  object \n",
      " 4   BMI                   253680 non-null  float64\n",
      " 5   Smoker                253680 non-null  object \n",
      " 6   Stroke                253680 non-null  object \n",
      " 7   HeartDiseaseorAttack  253680 non-null  object \n",
      " 8   PhysActivity          253680 non-null  object \n",
      " 9   Fruits                253680 non-null  object \n",
      " 10  Veggies               253680 non-null  object \n",
      " 11  HvyAlcoholConsump     253680 non-null  object \n",
      " 12  AnyHealthcare         253680 non-null  object \n",
      " 13  NoDocbcCost           253680 non-null  object \n",
      " 14  GenHlth               253680 non-null  object \n",
      " 15  MentHlth              253680 non-null  float64\n",
      " 16  PhysHlth              253680 non-null  float64\n",
      " 17  DiffWalk              253680 non-null  object \n",
      " 18  Sex                   253680 non-null  object \n",
      " 19  Age                   253680 non-null  object \n",
      " 20  Education             253680 non-null  object \n",
      " 21  Income                253680 non-null  object \n",
      "dtypes: float64(3), object(19)\n",
      "memory usage: 42.6+ MB\n"
     ]
    }
   ],
   "source": [
    "df = pd.read_csv(Config.data_cleaned_path)\n",
    "df.info()"
   ]
  },
  {
   "cell_type": "markdown",
   "metadata": {},
   "source": [
    "### **Utils**"
   ]
  },
  {
   "cell_type": "code",
   "execution_count": null,
   "metadata": {},
   "outputs": [],
   "source": [
    "def model_metrics(y_test, y_pred):\n",
    "    metrics = {'Accuracy':round((metrics.accuracy_score(y_test, y_pred) * 100), 2),\n",
    "              'Recall': round((metrics.recall_score(y_test, y_pred) * 100), 2),\n",
    "              'Precision': round((metrics.precision_score(y_test, y_pred) * 100), 2),\n",
    "              'F1-score': round((metrics.f1_score(y_test, y_pred) * 100), 2)\n",
    "              }\n",
    "    return metrics\n",
    "\n",
    "def cross_val_metrics(model, X, y):\n",
    "    metrics = {'Accuracy':round((np.mean(cross_val_score(model, X, y, scoring='accuracy', cv=5)) * 100), 2),\n",
    "              'Recall': round((np.mean(cross_val_score(model, X, y, scoring='recall', cv=5)) * 100), 2),\n",
    "              'Precision': round((np.mean(cross_val_score(model, X, y, scoring='precision', cv=5)) * 100), 2),\n",
    "              'F1-score': round((np.mean(cross_val_score(model, X, y, scoring='f1', cv=5)) * 100), 2)\n",
    "              }\n",
    "    return metrics\n",
    "\n",
    "def show_metrics(metrics):\n",
    "    for key, value in metrics.items():\n",
    "        display(Markdown(f\"{key}: **{value}**%\"))\n",
    "    return\n"
   ]
  },
  {
   "cell_type": "markdown",
   "metadata": {},
   "source": [
    "### **Feature engineering**"
   ]
  },
  {
   "cell_type": "code",
   "execution_count": null,
   "metadata": {},
   "outputs": [],
   "source": [
    "df_enc_dict = {}\n",
    "\n",
    "orders = {}"
   ]
  }
 ],
 "metadata": {
  "kernelspec": {
   "display_name": "venv",
   "language": "python",
   "name": "python3"
  },
  "language_info": {
   "codemirror_mode": {
    "name": "ipython",
    "version": 3
   },
   "file_extension": ".py",
   "mimetype": "text/x-python",
   "name": "python",
   "nbconvert_exporter": "python",
   "pygments_lexer": "ipython3",
   "version": "3.12.9"
  }
 },
 "nbformat": 4,
 "nbformat_minor": 2
}
