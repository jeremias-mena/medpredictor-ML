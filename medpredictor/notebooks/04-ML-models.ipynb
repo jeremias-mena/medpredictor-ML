{
 "cells": [
  {
   "cell_type": "code",
   "execution_count": 9,
   "metadata": {},
   "outputs": [],
   "source": [
    "from medpredictor import Graph, Encoder, Config, Utils\n",
    "import numpy as np\n",
    "import pandas as pd\n",
    "from sklearn.neighbors import KNeighborsClassifier\n",
    "from sklearn.ensemble import RandomForestClassifier\n",
    "from sklearn.model_selection import train_test_split, RandomizedSearchCV, cross_val_score\n",
    "from sklearn import metrics\n",
    "from IPython.display import Markdown"
   ]
  },
  {
   "cell_type": "markdown",
   "metadata": {},
   "source": [
    "### **Setting up the dataframe**"
   ]
  },
  {
   "cell_type": "code",
   "execution_count": 15,
   "metadata": {},
   "outputs": [
    {
     "name": "stdout",
     "output_type": "stream",
     "text": [
      "<class 'pandas.core.frame.DataFrame'>\n",
      "RangeIndex: 253680 entries, 0 to 253679\n",
      "Data columns (total 22 columns):\n",
      " #   Column                Non-Null Count   Dtype  \n",
      "---  ------                --------------   -----  \n",
      " 0   Diabetes_012          253680 non-null  object \n",
      " 1   HighBP                253680 non-null  object \n",
      " 2   HighChol              253680 non-null  object \n",
      " 3   CholCheck             253680 non-null  object \n",
      " 4   BMI                   253680 non-null  float64\n",
      " 5   Smoker                253680 non-null  object \n",
      " 6   Stroke                253680 non-null  object \n",
      " 7   HeartDiseaseorAttack  253680 non-null  object \n",
      " 8   PhysActivity          253680 non-null  object \n",
      " 9   Fruits                253680 non-null  object \n",
      " 10  Veggies               253680 non-null  object \n",
      " 11  HvyAlcoholConsump     253680 non-null  object \n",
      " 12  AnyHealthcare         253680 non-null  object \n",
      " 13  NoDocbcCost           253680 non-null  object \n",
      " 14  GenHlth               253680 non-null  object \n",
      " 15  MentHlth              253680 non-null  float64\n",
      " 16  PhysHlth              253680 non-null  float64\n",
      " 17  DiffWalk              253680 non-null  object \n",
      " 18  Sex                   253680 non-null  object \n",
      " 19  Age                   253680 non-null  object \n",
      " 20  Education             253680 non-null  object \n",
      " 21  Income                253680 non-null  object \n",
      "dtypes: float64(3), object(19)\n",
      "memory usage: 42.6+ MB\n"
     ]
    }
   ],
   "source": [
    "df = pd.read_csv(Config.data_cleaned_path)\n",
    "df.info()"
   ]
  },
  {
   "cell_type": "markdown",
   "metadata": {},
   "source": [
    "### **Utils**"
   ]
  },
  {
   "cell_type": "code",
   "execution_count": 16,
   "metadata": {},
   "outputs": [],
   "source": [
    "def model_metrics(y_test, y_pred):\n",
    "    metrics = {'Accuracy':round((metrics.accuracy_score(y_test, y_pred) * 100), 2),\n",
    "              'Recall': round((metrics.recall_score(y_test, y_pred) * 100), 2),\n",
    "              'Precision': round((metrics.precision_score(y_test, y_pred) * 100), 2),\n",
    "              'F1-score': round((metrics.f1_score(y_test, y_pred) * 100), 2)\n",
    "              }\n",
    "    return metrics\n",
    "\n",
    "def cross_val_metrics(model, X, y):\n",
    "    metrics = {'Accuracy':round((np.mean(cross_val_score(model, X, y, scoring='accuracy', cv=5)) * 100), 2),\n",
    "              'Recall': round((np.mean(cross_val_score(model, X, y, scoring='recall', cv=5)) * 100), 2),\n",
    "              'Precision': round((np.mean(cross_val_score(model, X, y, scoring='precision', cv=5)) * 100), 2),\n",
    "              'F1-score': round((np.mean(cross_val_score(model, X, y, scoring='f1', cv=5)) * 100), 2)\n",
    "              }\n",
    "    return metrics\n",
    "\n",
    "def show_metrics(metrics):\n",
    "    for key, value in metrics.items():\n",
    "        display(Markdown(f\"{key}: **{value}**%\"))\n",
    "    return\n"
   ]
  },
  {
   "cell_type": "markdown",
   "metadata": {},
   "source": [
    "### **Feature engineering**"
   ]
  },
  {
   "cell_type": "code",
   "execution_count": 23,
   "metadata": {},
   "outputs": [
    {
     "name": "stdout",
     "output_type": "stream",
     "text": [
      "<class 'pandas.core.frame.DataFrame'>\n",
      "RangeIndex: 253680 entries, 0 to 253679\n",
      "Data columns (total 22 columns):\n",
      " #   Column                    Non-Null Count   Dtype  \n",
      "---  ------                    --------------   -----  \n",
      " 0   BMI                       253680 non-null  float64\n",
      " 1   MentHlth                  253680 non-null  float64\n",
      " 2   PhysHlth                  253680 non-null  float64\n",
      " 3   Diabetes_012_enc          253680 non-null  int64  \n",
      " 4   HighBP_enc                253680 non-null  int64  \n",
      " 5   HighChol_enc              253680 non-null  int64  \n",
      " 6   CholCheck_enc             253680 non-null  int64  \n",
      " 7   Smoker_enc                253680 non-null  int64  \n",
      " 8   Stroke_enc                253680 non-null  int64  \n",
      " 9   HeartDiseaseorAttack_enc  253680 non-null  int64  \n",
      " 10  PhysActivity_enc          253680 non-null  int64  \n",
      " 11  Fruits_enc                253680 non-null  int64  \n",
      " 12  Veggies_enc               253680 non-null  int64  \n",
      " 13  HvyAlcoholConsump_enc     253680 non-null  int64  \n",
      " 14  AnyHealthcare_enc         253680 non-null  int64  \n",
      " 15  NoDocbcCost_enc           253680 non-null  int64  \n",
      " 16  GenHlth_enc               253680 non-null  int64  \n",
      " 17  DiffWalk_enc              253680 non-null  int64  \n",
      " 18  Sex_enc                   253680 non-null  int64  \n",
      " 19  Age_enc                   253680 non-null  int64  \n",
      " 20  Education_enc             253680 non-null  int64  \n",
      " 21  Income_enc                253680 non-null  int64  \n",
      "dtypes: float64(3), int64(19)\n",
      "memory usage: 42.6 MB\n"
     ]
    }
   ],
   "source": [
    "df_enc_dict = {}\n",
    "\n",
    "df_dec_dict = {}\n",
    "\n",
    "orders = {}\n",
    "\n",
    "num_columns = ['BMI', 'MentHlth', 'PhysHlth']\n",
    "\n",
    "df_copy = df.drop(columns=num_columns)\n",
    "\n",
    "enc = Encoder()\n",
    "\n",
    "df_numerics = enc.robust_scaler_method(df=df, columns_name=num_columns)\n",
    "\n",
    "df_enc_dict.update({'numerics':df_numerics})\n",
    "\n",
    "orders = {'age': Utils.values_age_order,\n",
    "          'health_status': Utils.values_status_order,\n",
    "          'income': Utils.values_income_order,\n",
    "          'education': Utils.values_education_order,\n",
    "          'diabetes': Utils.values_diabetes_order}\n",
    "\n",
    "for column in df_copy.columns:\n",
    "    order = orders.get(column, None)\n",
    "    if order is not None:\n",
    "        enc_, dec_ = enc.ordinal_encoder_method(df=df_copy, \n",
    "                                          column_name=column, \n",
    "                                          order=order)\n",
    "        df_enc_dict[column] = pd.DataFrame({column + '_enc': enc_})\n",
    "        df_dec_dict[column] = pd.DataFrame({column + '_dec': dec_})\n",
    "        continue\n",
    "    enc_, dec_ = enc.label_encoder_method(df=df_copy,\n",
    "                                    column_name=column)\n",
    "    df_enc_dict[column] = pd.DataFrame({column + '_enc': enc_})\n",
    "    df_dec_dict[column] = pd.DataFrame({column + '_dec': dec_})\n",
    "\n",
    "df_enc = pd.concat(list(df_enc_dict.values()), axis=1)\n",
    "df_dec = pd.concat(list(df_dec_dict.values()), axis=1)\n",
    "\n",
    "df_enc.info()\n"
   ]
  },
  {
   "cell_type": "code",
   "execution_count": 25,
   "metadata": {},
   "outputs": [],
   "source": [
    "X_h1 = df_enc.drop(columns=['MentHlth', 'PhysHlth',\n",
    "                            'Diabetes_012_enc', 'CholCheck_enc',\n",
    "                            'AnyHealthcare_enc', 'NoDocbcCost_enc',\n",
    "                            'Education_enc', 'Income_enc' \n",
    "                            ])\n",
    "y_h1 = df_enc['Diabetes_012_enc']\n",
    "\n",
    "X_h2 = df_enc.drop(columns=['MentHlth', 'PhysHlth',\n",
    "                            'Stroke_enc', 'AnyHealthcare_enc',\n",
    "                            'NoDocbcCost_enc', 'Education_enc',\n",
    "                            'Income_enc'])\n",
    "y_h2 = df_enc['Stroke_enc']\n",
    "\n",
    "X_h3 = df_enc.drop(columns=['MentHlth', 'PhysHlth',\n",
    "                            'HeartDiseaseorAttack_enc','AnyHealthcare_enc',\n",
    "                            'NoDocbcCost_enc', 'Education_enc',\n",
    "                            'Income_enc'])\n",
    "y_h3 = df_enc['HeartDiseaseorAttack_enc']"
   ]
  }
 ],
 "metadata": {
  "kernelspec": {
   "display_name": "venv",
   "language": "python",
   "name": "python3"
  },
  "language_info": {
   "codemirror_mode": {
    "name": "ipython",
    "version": 3
   },
   "file_extension": ".py",
   "mimetype": "text/x-python",
   "name": "python",
   "nbconvert_exporter": "python",
   "pygments_lexer": "ipython3",
   "version": "3.12.9"
  }
 },
 "nbformat": 4,
 "nbformat_minor": 2
}
