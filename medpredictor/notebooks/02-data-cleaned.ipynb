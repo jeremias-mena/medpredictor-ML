{
 "cells": [
  {
   "cell_type": "code",
   "execution_count": 2,
   "metadata": {},
   "outputs": [],
   "source": [
    "import pandas as pd\n",
    "from medpredictor import Config\n",
    "from IPython.display import Markdown"
   ]
  },
  {
   "cell_type": "code",
   "execution_count": 3,
   "metadata": {},
   "outputs": [
    {
     "name": "stdout",
     "output_type": "stream",
     "text": [
      "<class 'pandas.core.frame.DataFrame'>\n",
      "RangeIndex: 253680 entries, 0 to 253679\n",
      "Data columns (total 22 columns):\n",
      " #   Column                Non-Null Count   Dtype  \n",
      "---  ------                --------------   -----  \n",
      " 0   Diabetes_012          253680 non-null  object \n",
      " 1   HighBP                253680 non-null  object \n",
      " 2   HighChol              253680 non-null  object \n",
      " 3   CholCheck             253680 non-null  object \n",
      " 4   BMI                   253680 non-null  float64\n",
      " 5   Smoker                253680 non-null  object \n",
      " 6   Stroke                253680 non-null  object \n",
      " 7   HeartDiseaseorAttack  253680 non-null  object \n",
      " 8   PhysActivity          253680 non-null  object \n",
      " 9   Fruits                253680 non-null  object \n",
      " 10  Veggies               253680 non-null  object \n",
      " 11  HvyAlcoholConsump     253680 non-null  object \n",
      " 12  AnyHealthcare         253680 non-null  object \n",
      " 13  NoDocbcCost           253680 non-null  object \n",
      " 14  GenHlth               253680 non-null  object \n",
      " 15  MentHlth              253680 non-null  float64\n",
      " 16  PhysHlth              253680 non-null  float64\n",
      " 17  DiffWalk              253680 non-null  object \n",
      " 18  Sex                   253680 non-null  object \n",
      " 19  Age                   253680 non-null  object \n",
      " 20  Education             253680 non-null  object \n",
      " 21  Income                253680 non-null  object \n",
      "dtypes: float64(3), object(19)\n",
      "memory usage: 42.6+ MB\n"
     ]
    }
   ],
   "source": [
    "df = pd.read_csv(Config.data_processed_path)\n",
    "df.info()"
   ]
  },
  {
   "cell_type": "code",
   "execution_count": 4,
   "metadata": {},
   "outputs": [
    {
     "data": {
      "text/markdown": [
       "Null counts: 0"
      ],
      "text/plain": [
       "<IPython.core.display.Markdown object>"
      ]
     },
     "metadata": {},
     "output_type": "display_data"
    }
   ],
   "source": [
    "nulls = df.isnull().sum().sum()\n",
    "display(Markdown(f\"Null counts: {nulls}\"))"
   ]
  },
  {
   "cell_type": "code",
   "execution_count": 5,
   "metadata": {},
   "outputs": [],
   "source": [
    "df.to_csv(Config.data_cleaned_path, index=False)"
   ]
  }
 ],
 "metadata": {
  "kernelspec": {
   "display_name": "venv",
   "language": "python",
   "name": "python3"
  },
  "language_info": {
   "codemirror_mode": {
    "name": "ipython",
    "version": 3
   },
   "file_extension": ".py",
   "mimetype": "text/x-python",
   "name": "python",
   "nbconvert_exporter": "python",
   "pygments_lexer": "ipython3",
   "version": "3.12.8"
  }
 },
 "nbformat": 4,
 "nbformat_minor": 2
}
