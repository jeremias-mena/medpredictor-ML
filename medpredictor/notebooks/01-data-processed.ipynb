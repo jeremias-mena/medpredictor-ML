{
 "cells": [
  {
   "cell_type": "code",
   "execution_count": 31,
   "metadata": {},
   "outputs": [],
   "source": [
    "import pandas as pd\n",
    "from medpredictor import Config"
   ]
  },
  {
   "cell_type": "code",
   "execution_count": null,
   "metadata": {},
   "outputs": [],
   "source": [
    "df = pd.read_csv(Config.data_raw_path)\n",
    "df.info()"
   ]
  },
  {
   "cell_type": "code",
   "execution_count": null,
   "metadata": {},
   "outputs": [],
   "source": [
    "df.head()"
   ]
  },
  {
   "cell_type": "code",
   "execution_count": 34,
   "metadata": {},
   "outputs": [],
   "source": [
    "df['Diabetes_012'] = df['Diabetes_012'].map({0:'No diabetes', 1:'Prediabetes', 2:'Diabetes'})\n",
    "df['HighBP'] = df['HighBP'].map({0:'No', 1:'Yes'})\n",
    "df['HighChol'] = df['HighChol'].map({0:'No', 1:'Yes'})\n",
    "df['CholCheck'] = df['CholCheck'].map({0:'No', 1:'Yes'})\n",
    "df['Smoker'] = df['Smoker'].map({0:'No', 1:'Yes'})\n",
    "df['Stroke'] = df['Stroke'].map({0:'No', 1:'Yes'})\n",
    "df['HeartDiseaseorAttack'] = df['HeartDiseaseorAttack'].map({0:'No', 1:'Yes'})\n",
    "df['PhysActivity'] = df['PhysActivity'].map({0:'No', 1:'Yes'})\n",
    "df['Fruits'] = df['Fruits'].map({0:'No', 1:'Yes'})\n",
    "df['Veggies'] = df['Veggies'].map({0:'No', 1:'Yes'})\n",
    "df['HvyAlcoholConsump'] = df['HvyAlcoholConsump'].map({0:'No', 1:'Yes'})\n",
    "df['AnyHealthcare'] = df['AnyHealthcare'].map({0:'No', 1:'Yes'})\n",
    "df['NoDocbcCost'] = df['NoDocbcCost'].map({0:'No', 1:'Yes'})\n",
    "df['GenHlth'] = df['GenHlth'].map({1:'Excellent', 2:'Very good', 3:'Good', 4:'Fair', 5:'Poor'})\n",
    "df['DiffWalk'] = df['DiffWalk'].map({0:'No', 1:'Yes'})\n",
    "df['Sex'] = df['Sex'].map({0:'Female', 1:'Male'})\n",
    "df['Age'] = df['Age'].map({1:'18 to 24', 2:'25 to 29', 3:'30 to 34', 4:'35 to 39', 5:'40 to 44', 6:'45 to 49', 7:'50 to 54', 8:'55 to 59', 9:'60 to 64', 10:'65 to 69', 11:'70 to 74', 12:'75 to 79', 13:'80 or older'})\n",
    "df['Education'] = df['Education'].map({1:'Never attended school or only kindergarten', 2:'Elementary', 3:'Some high school', 4:'High school graduate', 5:'Some college or technical school', 6:'College graduate'})\n",
    "df['Income'] = df['Income'].map({1:'Less than $10,000', 2:'$10,000 to less than $15,000', 3:'$15,000 to less than $20,000', 4:'$20,000 to less than $25,000', 5:'$25,000 to less than $35,000', 6:'$35,000 to less than $50,000', 7:'$50,000 to less than $75,000', 8:'$75,000 or more'})"
   ]
  },
  {
   "cell_type": "code",
   "execution_count": null,
   "metadata": {},
   "outputs": [],
   "source": [
    "df.to_csv(Config.data_processed_path, index=False)"
   ]
  }
 ],
 "metadata": {
  "kernelspec": {
   "display_name": "venv",
   "language": "python",
   "name": "python3"
  },
  "language_info": {
   "codemirror_mode": {
    "name": "ipython",
    "version": 3
   },
   "file_extension": ".py",
   "mimetype": "text/x-python",
   "name": "python",
   "nbconvert_exporter": "python",
   "pygments_lexer": "ipython3",
   "version": "3.12.8"
  }
 },
 "nbformat": 4,
 "nbformat_minor": 2
}
